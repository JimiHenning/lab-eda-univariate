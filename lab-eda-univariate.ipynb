{
 "cells": [
  {
   "cell_type": "code",
   "execution_count": 4,
   "id": "bf58baf6-e6a7-45c3-a20d-d3c98c882e4b",
   "metadata": {},
   "outputs": [],
   "source": [
    "import pandas as pd\n",
    "import matplotlib.pyplot as plt\n",
    "import seaborn as sns\n",
    "import numpy as np\n",
    "\n",
    "%matplotlib inline"
   ]
  },
  {
   "cell_type": "code",
   "execution_count": 5,
   "id": "464bfb9d-c8b0-49f2-8df2-2574bc68fe81",
   "metadata": {},
   "outputs": [],
   "source": [
    "pd.options.display.float_format = '{:.2f}'.format\n",
    "pd.set_option('display.max_rows', 200)\n",
    "pd.set_option('display.max_columns', 90)"
   ]
  },
  {
   "cell_type": "code",
   "execution_count": 6,
   "id": "48ffb549-f681-4fa8-b53e-9da557b3d3dc",
   "metadata": {},
   "outputs": [
    {
     "data": {
      "text/html": [
       "<div>\n",
       "<style scoped>\n",
       "    .dataframe tbody tr th:only-of-type {\n",
       "        vertical-align: middle;\n",
       "    }\n",
       "\n",
       "    .dataframe tbody tr th {\n",
       "        vertical-align: top;\n",
       "    }\n",
       "\n",
       "    .dataframe thead th {\n",
       "        text-align: right;\n",
       "    }\n",
       "</style>\n",
       "<table border=\"1\" class=\"dataframe\">\n",
       "  <thead>\n",
       "    <tr style=\"text-align: right;\">\n",
       "      <th></th>\n",
       "      <th>uid</th>\n",
       "      <th>asin</th>\n",
       "      <th>title</th>\n",
       "      <th>stars</th>\n",
       "      <th>reviews</th>\n",
       "      <th>price</th>\n",
       "      <th>isBestSeller</th>\n",
       "      <th>boughtInLastMonth</th>\n",
       "      <th>category</th>\n",
       "    </tr>\n",
       "  </thead>\n",
       "  <tbody>\n",
       "    <tr>\n",
       "      <th>0</th>\n",
       "      <td>1</td>\n",
       "      <td>B09B96TG33</td>\n",
       "      <td>Echo Dot (5th generation, 2022 release) | Big ...</td>\n",
       "      <td>4.70</td>\n",
       "      <td>15308</td>\n",
       "      <td>21.99</td>\n",
       "      <td>False</td>\n",
       "      <td>0</td>\n",
       "      <td>Hi-Fi Speakers</td>\n",
       "    </tr>\n",
       "    <tr>\n",
       "      <th>1</th>\n",
       "      <td>2</td>\n",
       "      <td>B01HTH3C8S</td>\n",
       "      <td>Anker Soundcore mini, Super-Portable Bluetooth...</td>\n",
       "      <td>4.70</td>\n",
       "      <td>98099</td>\n",
       "      <td>23.99</td>\n",
       "      <td>True</td>\n",
       "      <td>0</td>\n",
       "      <td>Hi-Fi Speakers</td>\n",
       "    </tr>\n",
       "    <tr>\n",
       "      <th>2</th>\n",
       "      <td>3</td>\n",
       "      <td>B09B8YWXDF</td>\n",
       "      <td>Echo Dot (5th generation, 2022 release) | Big ...</td>\n",
       "      <td>4.70</td>\n",
       "      <td>15308</td>\n",
       "      <td>21.99</td>\n",
       "      <td>False</td>\n",
       "      <td>0</td>\n",
       "      <td>Hi-Fi Speakers</td>\n",
       "    </tr>\n",
       "    <tr>\n",
       "      <th>3</th>\n",
       "      <td>4</td>\n",
       "      <td>B09B8T5VGV</td>\n",
       "      <td>Echo Dot with clock (5th generation, 2022 rele...</td>\n",
       "      <td>4.70</td>\n",
       "      <td>7205</td>\n",
       "      <td>31.99</td>\n",
       "      <td>False</td>\n",
       "      <td>0</td>\n",
       "      <td>Hi-Fi Speakers</td>\n",
       "    </tr>\n",
       "    <tr>\n",
       "      <th>4</th>\n",
       "      <td>5</td>\n",
       "      <td>B09WX6QD65</td>\n",
       "      <td>Introducing Echo Pop | Full sound compact Wi-F...</td>\n",
       "      <td>4.60</td>\n",
       "      <td>1881</td>\n",
       "      <td>17.99</td>\n",
       "      <td>False</td>\n",
       "      <td>0</td>\n",
       "      <td>Hi-Fi Speakers</td>\n",
       "    </tr>\n",
       "    <tr>\n",
       "      <th>...</th>\n",
       "      <td>...</td>\n",
       "      <td>...</td>\n",
       "      <td>...</td>\n",
       "      <td>...</td>\n",
       "      <td>...</td>\n",
       "      <td>...</td>\n",
       "      <td>...</td>\n",
       "      <td>...</td>\n",
       "      <td>...</td>\n",
       "    </tr>\n",
       "    <tr>\n",
       "      <th>2443646</th>\n",
       "      <td>2828589</td>\n",
       "      <td>B0CHSD7P2Q</td>\n",
       "      <td>Motorbike Armour, Motorbike Clothing, Cycling ...</td>\n",
       "      <td>0.00</td>\n",
       "      <td>0</td>\n",
       "      <td>22.34</td>\n",
       "      <td>False</td>\n",
       "      <td>0</td>\n",
       "      <td>Motorbike Clothing</td>\n",
       "    </tr>\n",
       "    <tr>\n",
       "      <th>2443647</th>\n",
       "      <td>2828590</td>\n",
       "      <td>B0B7B8FNBQ</td>\n",
       "      <td>PROFIRST Waterproof Motorcycle 2 Piece Ladies ...</td>\n",
       "      <td>0.00</td>\n",
       "      <td>0</td>\n",
       "      <td>97.99</td>\n",
       "      <td>False</td>\n",
       "      <td>0</td>\n",
       "      <td>Motorbike Clothing</td>\n",
       "    </tr>\n",
       "    <tr>\n",
       "      <th>2443648</th>\n",
       "      <td>2828591</td>\n",
       "      <td>B0BD5FL5FB</td>\n",
       "      <td>Men’s Motorcycle Motorbike Biker Trousers Kevl...</td>\n",
       "      <td>0.00</td>\n",
       "      <td>0</td>\n",
       "      <td>52.99</td>\n",
       "      <td>False</td>\n",
       "      <td>0</td>\n",
       "      <td>Motorbike Clothing</td>\n",
       "    </tr>\n",
       "    <tr>\n",
       "      <th>2443649</th>\n",
       "      <td>2828592</td>\n",
       "      <td>B008OYLL4I</td>\n",
       "      <td>Texpeed Mens Motorcycle Motorbike Biker Trouse...</td>\n",
       "      <td>4.30</td>\n",
       "      <td>404</td>\n",
       "      <td>79.99</td>\n",
       "      <td>False</td>\n",
       "      <td>0</td>\n",
       "      <td>Motorbike Clothing</td>\n",
       "    </tr>\n",
       "    <tr>\n",
       "      <th>2443650</th>\n",
       "      <td>2828593</td>\n",
       "      <td>B08P3W9B3T</td>\n",
       "      <td>RIDEX CJ223 Motorcycle Motorbike Jacket Armour...</td>\n",
       "      <td>4.50</td>\n",
       "      <td>34</td>\n",
       "      <td>53.99</td>\n",
       "      <td>False</td>\n",
       "      <td>0</td>\n",
       "      <td>Motorbike Clothing</td>\n",
       "    </tr>\n",
       "  </tbody>\n",
       "</table>\n",
       "<p>2443651 rows × 9 columns</p>\n",
       "</div>"
      ],
      "text/plain": [
       "             uid        asin  \\\n",
       "0              1  B09B96TG33   \n",
       "1              2  B01HTH3C8S   \n",
       "2              3  B09B8YWXDF   \n",
       "3              4  B09B8T5VGV   \n",
       "4              5  B09WX6QD65   \n",
       "...          ...         ...   \n",
       "2443646  2828589  B0CHSD7P2Q   \n",
       "2443647  2828590  B0B7B8FNBQ   \n",
       "2443648  2828591  B0BD5FL5FB   \n",
       "2443649  2828592  B008OYLL4I   \n",
       "2443650  2828593  B08P3W9B3T   \n",
       "\n",
       "                                                     title  stars  reviews  \\\n",
       "0        Echo Dot (5th generation, 2022 release) | Big ...   4.70    15308   \n",
       "1        Anker Soundcore mini, Super-Portable Bluetooth...   4.70    98099   \n",
       "2        Echo Dot (5th generation, 2022 release) | Big ...   4.70    15308   \n",
       "3        Echo Dot with clock (5th generation, 2022 rele...   4.70     7205   \n",
       "4        Introducing Echo Pop | Full sound compact Wi-F...   4.60     1881   \n",
       "...                                                    ...    ...      ...   \n",
       "2443646  Motorbike Armour, Motorbike Clothing, Cycling ...   0.00        0   \n",
       "2443647  PROFIRST Waterproof Motorcycle 2 Piece Ladies ...   0.00        0   \n",
       "2443648  Men’s Motorcycle Motorbike Biker Trousers Kevl...   0.00        0   \n",
       "2443649  Texpeed Mens Motorcycle Motorbike Biker Trouse...   4.30      404   \n",
       "2443650  RIDEX CJ223 Motorcycle Motorbike Jacket Armour...   4.50       34   \n",
       "\n",
       "         price  isBestSeller  boughtInLastMonth            category  \n",
       "0        21.99         False                  0      Hi-Fi Speakers  \n",
       "1        23.99          True                  0      Hi-Fi Speakers  \n",
       "2        21.99         False                  0      Hi-Fi Speakers  \n",
       "3        31.99         False                  0      Hi-Fi Speakers  \n",
       "4        17.99         False                  0      Hi-Fi Speakers  \n",
       "...        ...           ...                ...                 ...  \n",
       "2443646  22.34         False                  0  Motorbike Clothing  \n",
       "2443647  97.99         False                  0  Motorbike Clothing  \n",
       "2443648  52.99         False                  0  Motorbike Clothing  \n",
       "2443649  79.99         False                  0  Motorbike Clothing  \n",
       "2443650  53.99         False                  0  Motorbike Clothing  \n",
       "\n",
       "[2443651 rows x 9 columns]"
      ]
     },
     "execution_count": 6,
     "metadata": {},
     "output_type": "execute_result"
    }
   ],
   "source": [
    "df = pd.read_csv(\"amz_uk_price_prediction_dataset.csv\")\n",
    "df"
   ]
  },
  {
   "cell_type": "code",
   "execution_count": 7,
   "id": "274d5e9f-bed0-4a43-ad5a-98800a03048b",
   "metadata": {},
   "outputs": [],
   "source": [
    "df_category = df['category'].value_counts()"
   ]
  },
  {
   "cell_type": "code",
   "execution_count": 8,
   "id": "6d2cd8f8-fcef-4a52-8346-9cf2427c58cd",
   "metadata": {},
   "outputs": [
    {
     "data": {
      "text/plain": [
       "category\n",
       "Sports & Outdoors                         836265\n",
       "Beauty                                     19312\n",
       "Handmade Clothing, Shoes & Accessories     19229\n",
       "Bath & Body                                19092\n",
       "Birthday Gifts                             18978\n",
       "                                           ...  \n",
       "Alexa Built-In Devices                       107\n",
       "Motorbike Chassis                            107\n",
       "Plugs                                        107\n",
       "Smart Home Security & Lighting               104\n",
       "Smart Speakers                                54\n",
       "Name: count, Length: 296, dtype: int64"
      ]
     },
     "metadata": {},
     "output_type": "display_data"
    }
   ],
   "source": [
    "display(df_category)"
   ]
  },
  {
   "cell_type": "code",
   "execution_count": 9,
   "id": "2e0a09ff-3663-4f5d-bde0-e2b98c465425",
   "metadata": {},
   "outputs": [],
   "source": [
    "#generate a frequency table\n",
    "df_category = df['category'].value_counts().reset_index()\n",
    "df_category.columns = [\"category\",\"frequency\"]\n",
    "df_category_frequency = df_category.sort_values('frequency', ascending = False)"
   ]
  },
  {
   "cell_type": "code",
   "execution_count": 10,
   "id": "e42dd6a1-30d5-46a0-b066-8261cedd5804",
   "metadata": {},
   "outputs": [
    {
     "data": {
      "text/html": [
       "<div>\n",
       "<style scoped>\n",
       "    .dataframe tbody tr th:only-of-type {\n",
       "        vertical-align: middle;\n",
       "    }\n",
       "\n",
       "    .dataframe tbody tr th {\n",
       "        vertical-align: top;\n",
       "    }\n",
       "\n",
       "    .dataframe thead th {\n",
       "        text-align: right;\n",
       "    }\n",
       "</style>\n",
       "<table border=\"1\" class=\"dataframe\">\n",
       "  <thead>\n",
       "    <tr style=\"text-align: right;\">\n",
       "      <th></th>\n",
       "      <th>category</th>\n",
       "      <th>frequency</th>\n",
       "    </tr>\n",
       "  </thead>\n",
       "  <tbody>\n",
       "    <tr>\n",
       "      <th>0</th>\n",
       "      <td>Sports &amp; Outdoors</td>\n",
       "      <td>836265</td>\n",
       "    </tr>\n",
       "    <tr>\n",
       "      <th>1</th>\n",
       "      <td>Beauty</td>\n",
       "      <td>19312</td>\n",
       "    </tr>\n",
       "    <tr>\n",
       "      <th>2</th>\n",
       "      <td>Handmade Clothing, Shoes &amp; Accessories</td>\n",
       "      <td>19229</td>\n",
       "    </tr>\n",
       "    <tr>\n",
       "      <th>3</th>\n",
       "      <td>Bath &amp; Body</td>\n",
       "      <td>19092</td>\n",
       "    </tr>\n",
       "    <tr>\n",
       "      <th>4</th>\n",
       "      <td>Birthday Gifts</td>\n",
       "      <td>18978</td>\n",
       "    </tr>\n",
       "  </tbody>\n",
       "</table>\n",
       "</div>"
      ],
      "text/plain": [
       "                                 category  frequency\n",
       "0                       Sports & Outdoors     836265\n",
       "1                                  Beauty      19312\n",
       "2  Handmade Clothing, Shoes & Accessories      19229\n",
       "3                             Bath & Body      19092\n",
       "4                          Birthday Gifts      18978"
      ]
     },
     "execution_count": 10,
     "metadata": {},
     "output_type": "execute_result"
    }
   ],
   "source": [
    "#top 5 most listed product categories\n",
    "df_category_frequency.head(5)"
   ]
  },
  {
   "cell_type": "code",
   "execution_count": 11,
   "id": "3c4c2851-81ed-441e-941e-456a2d5e1628",
   "metadata": {},
   "outputs": [],
   "source": [
    "df_category_frequency_top5 = df_category_frequency.head(5)"
   ]
  },
  {
   "cell_type": "code",
   "execution_count": 12,
   "id": "30ff61e8-c42f-4a37-99b6-aa1c78938773",
   "metadata": {},
   "outputs": [
    {
     "data": {
      "text/html": [
       "<div>\n",
       "<style scoped>\n",
       "    .dataframe tbody tr th:only-of-type {\n",
       "        vertical-align: middle;\n",
       "    }\n",
       "\n",
       "    .dataframe tbody tr th {\n",
       "        vertical-align: top;\n",
       "    }\n",
       "\n",
       "    .dataframe thead th {\n",
       "        text-align: right;\n",
       "    }\n",
       "</style>\n",
       "<table border=\"1\" class=\"dataframe\">\n",
       "  <thead>\n",
       "    <tr style=\"text-align: right;\">\n",
       "      <th></th>\n",
       "      <th>category</th>\n",
       "      <th>frequency</th>\n",
       "    </tr>\n",
       "  </thead>\n",
       "  <tbody>\n",
       "    <tr>\n",
       "      <th>0</th>\n",
       "      <td>Sports &amp; Outdoors</td>\n",
       "      <td>836265</td>\n",
       "    </tr>\n",
       "    <tr>\n",
       "      <th>1</th>\n",
       "      <td>Beauty</td>\n",
       "      <td>19312</td>\n",
       "    </tr>\n",
       "    <tr>\n",
       "      <th>2</th>\n",
       "      <td>Handmade Clothing, Shoes &amp; Accessories</td>\n",
       "      <td>19229</td>\n",
       "    </tr>\n",
       "    <tr>\n",
       "      <th>3</th>\n",
       "      <td>Bath &amp; Body</td>\n",
       "      <td>19092</td>\n",
       "    </tr>\n",
       "    <tr>\n",
       "      <th>4</th>\n",
       "      <td>Birthday Gifts</td>\n",
       "      <td>18978</td>\n",
       "    </tr>\n",
       "  </tbody>\n",
       "</table>\n",
       "</div>"
      ],
      "text/plain": [
       "                                 category  frequency\n",
       "0                       Sports & Outdoors     836265\n",
       "1                                  Beauty      19312\n",
       "2  Handmade Clothing, Shoes & Accessories      19229\n",
       "3                             Bath & Body      19092\n",
       "4                          Birthday Gifts      18978"
      ]
     },
     "execution_count": 12,
     "metadata": {},
     "output_type": "execute_result"
    }
   ],
   "source": [
    "df_category_frequency_top5"
   ]
  },
  {
   "cell_type": "code",
   "execution_count": 13,
   "id": "3ca2b73d-0c28-4099-884e-2ae4bae47e6c",
   "metadata": {},
   "outputs": [
    {
     "name": "stderr",
     "output_type": "stream",
     "text": [
      "C:\\Users\\JimiH\\AppData\\Local\\Temp\\ipykernel_24008\\419921838.py:3: FutureWarning: \n",
      "\n",
      "Passing `palette` without assigning `hue` is deprecated and will be removed in v0.14.0. Assign the `x` variable to `hue` and set `legend=False` for the same effect.\n",
      "\n",
      "  sns.barplot(x='category', y='frequency', data=df_category_frequency_top5, palette='viridis')\n"
     ]
    },
    {
     "data": {
      "image/png": "[encoded data removed]",
      "text/plain": [
       "<Figure size 1000x600 with 1 Axes>"
      ]
     },
     "metadata": {},
     "output_type": "display_data"
    }
   ],
   "source": [
    "plt.figure(figsize=(10, 6))\n",
    "\n",
    "sns.barplot(x='category', y='frequency', data=df_category_frequency_top5, palette='viridis')\n",
    "\n",
    "# Rotate the x-axis labels by 45 degrees for better readability\n",
    "plt.xticks(rotation=45, ha='right')\n",
    "\n",
    "plt.xlabel('Category')\n",
    "plt.ylabel('Frequency')\n",
    "plt.title('Product Distribution Across Categories')\n",
    "\n",
    "plt.tight_layout()  # Ensure everything fits without overlapping\n",
    "plt.show()\n"
   ]
  },
  {
   "cell_type": "code",
   "execution_count": 14,
   "id": "36882a40-77ae-4716-b718-5a27e622b581",
   "metadata": {},
   "outputs": [],
   "source": [
    "df_category_frequency_top_2_to_10 = df_category_frequency.iloc[1:11]"
   ]
  },
  {
   "cell_type": "code",
   "execution_count": 15,
   "id": "ff76378d-3275-4d7a-9688-1cfcd0cbacdb",
   "metadata": {},
   "outputs": [
    {
     "data": {
      "text/html": [
       "<div>\n",
       "<style scoped>\n",
       "    .dataframe tbody tr th:only-of-type {\n",
       "        vertical-align: middle;\n",
       "    }\n",
       "\n",
       "    .dataframe tbody tr th {\n",
       "        vertical-align: top;\n",
       "    }\n",
       "\n",
       "    .dataframe thead th {\n",
       "        text-align: right;\n",
       "    }\n",
       "</style>\n",
       "<table border=\"1\" class=\"dataframe\">\n",
       "  <thead>\n",
       "    <tr style=\"text-align: right;\">\n",
       "      <th></th>\n",
       "      <th>category</th>\n",
       "      <th>frequency</th>\n",
       "    </tr>\n",
       "  </thead>\n",
       "  <tbody>\n",
       "    <tr>\n",
       "      <th>1</th>\n",
       "      <td>Beauty</td>\n",
       "      <td>19312</td>\n",
       "    </tr>\n",
       "    <tr>\n",
       "      <th>2</th>\n",
       "      <td>Handmade Clothing, Shoes &amp; Accessories</td>\n",
       "      <td>19229</td>\n",
       "    </tr>\n",
       "    <tr>\n",
       "      <th>3</th>\n",
       "      <td>Bath &amp; Body</td>\n",
       "      <td>19092</td>\n",
       "    </tr>\n",
       "    <tr>\n",
       "      <th>4</th>\n",
       "      <td>Birthday Gifts</td>\n",
       "      <td>18978</td>\n",
       "    </tr>\n",
       "    <tr>\n",
       "      <th>5</th>\n",
       "      <td>Manicure &amp; Pedicure Products</td>\n",
       "      <td>18940</td>\n",
       "    </tr>\n",
       "    <tr>\n",
       "      <th>6</th>\n",
       "      <td>Skin Care</td>\n",
       "      <td>18769</td>\n",
       "    </tr>\n",
       "    <tr>\n",
       "      <th>7</th>\n",
       "      <td>Make-up</td>\n",
       "      <td>18756</td>\n",
       "    </tr>\n",
       "    <tr>\n",
       "      <th>8</th>\n",
       "      <td>Hair Care</td>\n",
       "      <td>18735</td>\n",
       "    </tr>\n",
       "    <tr>\n",
       "      <th>9</th>\n",
       "      <td>Fragrances</td>\n",
       "      <td>18564</td>\n",
       "    </tr>\n",
       "    <tr>\n",
       "      <th>10</th>\n",
       "      <td>Handmade Gifts</td>\n",
       "      <td>18295</td>\n",
       "    </tr>\n",
       "  </tbody>\n",
       "</table>\n",
       "</div>"
      ],
      "text/plain": [
       "                                  category  frequency\n",
       "1                                   Beauty      19312\n",
       "2   Handmade Clothing, Shoes & Accessories      19229\n",
       "3                              Bath & Body      19092\n",
       "4                           Birthday Gifts      18978\n",
       "5             Manicure & Pedicure Products      18940\n",
       "6                                Skin Care      18769\n",
       "7                                  Make-up      18756\n",
       "8                                Hair Care      18735\n",
       "9                               Fragrances      18564\n",
       "10                          Handmade Gifts      18295"
      ]
     },
     "execution_count": 15,
     "metadata": {},
     "output_type": "execute_result"
    }
   ],
   "source": [
    "df_category_frequency_top_2_to_10"
   ]
  },
  {
   "cell_type": "code",
   "execution_count": 16,
   "id": "08695bd5-2910-497a-9d48-105415188ce7",
   "metadata": {},
   "outputs": [
    {
     "name": "stderr",
     "output_type": "stream",
     "text": [
      "C:\\Users\\JimiH\\AppData\\Local\\Temp\\ipykernel_24008\\812417724.py:3: FutureWarning: \n",
      "\n",
      "Passing `palette` without assigning `hue` is deprecated and will be removed in v0.14.0. Assign the `x` variable to `hue` and set `legend=False` for the same effect.\n",
      "\n",
      "  sns.barplot(x='category', y='frequency', data=df_category_frequency_top_2_to_10, palette='viridis')\n"
     ]
    },
    {
     "data": {
      "image/png": "[encoded data removed]",
      "text/plain": [
       "<Figure size 1000x600 with 1 Axes>"
      ]
     },
     "metadata": {},
     "output_type": "display_data"
    }
   ],
   "source": [
    "plt.figure(figsize=(10, 6))\n",
    "\n",
    "sns.barplot(x='category', y='frequency', data=df_category_frequency_top_2_to_10, palette='viridis')\n",
    "\n",
    "# Rotate the x-axis labels by 45 degrees for better readability\n",
    "plt.xticks(rotation=45, ha='right')\n",
    "\n",
    "plt.xlabel('Category')\n",
    "plt.ylabel('Frequency')\n",
    "plt.title('Product Distribution Across Categories')\n",
    "\n",
    "plt.tight_layout()  # Ensure everything fits without overlapping\n",
    "plt.show()\n"
   ]
  },
  {
   "cell_type": "code",
   "execution_count": 17,
   "id": "b3ac1c99-93a3-4fef-8196-6ed530fb49fa",
   "metadata": {},
   "outputs": [
    {
     "data": {
      "text/html": [
       "<div>\n",
       "<style scoped>\n",
       "    .dataframe tbody tr th:only-of-type {\n",
       "        vertical-align: middle;\n",
       "    }\n",
       "\n",
       "    .dataframe tbody tr th {\n",
       "        vertical-align: top;\n",
       "    }\n",
       "\n",
       "    .dataframe thead th {\n",
       "        text-align: right;\n",
       "    }\n",
       "</style>\n",
       "<table border=\"1\" class=\"dataframe\">\n",
       "  <thead>\n",
       "    <tr style=\"text-align: right;\">\n",
       "      <th></th>\n",
       "      <th>category</th>\n",
       "      <th>frequency</th>\n",
       "    </tr>\n",
       "  </thead>\n",
       "  <tbody>\n",
       "    <tr>\n",
       "      <th>0</th>\n",
       "      <td>Sports &amp; Outdoors</td>\n",
       "      <td>836265</td>\n",
       "    </tr>\n",
       "    <tr>\n",
       "      <th>1</th>\n",
       "      <td>Beauty</td>\n",
       "      <td>19312</td>\n",
       "    </tr>\n",
       "    <tr>\n",
       "      <th>2</th>\n",
       "      <td>Handmade Clothing, Shoes &amp; Accessories</td>\n",
       "      <td>19229</td>\n",
       "    </tr>\n",
       "    <tr>\n",
       "      <th>3</th>\n",
       "      <td>Bath &amp; Body</td>\n",
       "      <td>19092</td>\n",
       "    </tr>\n",
       "    <tr>\n",
       "      <th>4</th>\n",
       "      <td>Birthday Gifts</td>\n",
       "      <td>18978</td>\n",
       "    </tr>\n",
       "  </tbody>\n",
       "</table>\n",
       "</div>"
      ],
      "text/plain": [
       "                                 category  frequency\n",
       "0                       Sports & Outdoors     836265\n",
       "1                                  Beauty      19312\n",
       "2  Handmade Clothing, Shoes & Accessories      19229\n",
       "3                             Bath & Body      19092\n",
       "4                          Birthday Gifts      18978"
      ]
     },
     "execution_count": 17,
     "metadata": {},
     "output_type": "execute_result"
    }
   ],
   "source": [
    "df_category_frequency_top5"
   ]
  },
  {
   "cell_type": "code",
   "execution_count": 18,
   "id": "546ae05d-b531-4e35-952f-0c69f1e1010b",
   "metadata": {},
   "outputs": [
    {
     "data": {
      "image/png": "[encoded data removed]",
      "text/plain": [
       "<Figure size 800x800 with 1 Axes>"
      ]
     },
     "metadata": {},
     "output_type": "display_data"
    }
   ],
   "source": [
    "\n",
    "plt.figure(figsize=(8, 8))  # Set figure size\n",
    "\n",
    "\n",
    "plt.pie(df_category_frequency_top5['frequency'], labels=df_category_frequency_top5['category'], autopct='%1.1f%%', startangle=90)\n",
    "\n",
    "# Equal aspect ratio ensures that pie is drawn as a circle.\n",
    "plt.axis('equal')\n",
    "\n",
    "plt.title('Product Distribution Across Categories')\n",
    "plt.show()\n"
   ]
  },
  {
   "cell_type": "markdown",
   "id": "f922d806-7075-4204-9aea-6595d3edfb1d",
   "metadata": {},
   "source": [
    "#The sports & Outdoors category is extremely dominating"
   ]
  },
  {
   "cell_type": "code",
   "execution_count": null,
   "id": "27d7f66b-344a-4218-9df1-d6faa4449b3c",
   "metadata": {},
   "outputs": [],
   "source": []
  },
  {
   "cell_type": "code",
   "execution_count": 20,
   "id": "f6a4a8b1-7df7-48ee-b485-4f3a2b4ec854",
   "metadata": {},
   "outputs": [
    {
     "data": {
      "text/html": [
       "<div>\n",
       "<style scoped>\n",
       "    .dataframe tbody tr th:only-of-type {\n",
       "        vertical-align: middle;\n",
       "    }\n",
       "\n",
       "    .dataframe tbody tr th {\n",
       "        vertical-align: top;\n",
       "    }\n",
       "\n",
       "    .dataframe thead th {\n",
       "        text-align: right;\n",
       "    }\n",
       "</style>\n",
       "<table border=\"1\" class=\"dataframe\">\n",
       "  <thead>\n",
       "    <tr style=\"text-align: right;\">\n",
       "      <th></th>\n",
       "      <th>uid</th>\n",
       "      <th>asin</th>\n",
       "      <th>title</th>\n",
       "      <th>stars</th>\n",
       "      <th>reviews</th>\n",
       "      <th>price</th>\n",
       "      <th>isBestSeller</th>\n",
       "      <th>boughtInLastMonth</th>\n",
       "      <th>category</th>\n",
       "    </tr>\n",
       "  </thead>\n",
       "  <tbody>\n",
       "    <tr>\n",
       "      <th>0</th>\n",
       "      <td>1</td>\n",
       "      <td>B09B96TG33</td>\n",
       "      <td>Echo Dot (5th generation, 2022 release) | Big ...</td>\n",
       "      <td>4.70</td>\n",
       "      <td>15308</td>\n",
       "      <td>21.99</td>\n",
       "      <td>False</td>\n",
       "      <td>0</td>\n",
       "      <td>Hi-Fi Speakers</td>\n",
       "    </tr>\n",
       "    <tr>\n",
       "      <th>1</th>\n",
       "      <td>2</td>\n",
       "      <td>B01HTH3C8S</td>\n",
       "      <td>Anker Soundcore mini, Super-Portable Bluetooth...</td>\n",
       "      <td>4.70</td>\n",
       "      <td>98099</td>\n",
       "      <td>23.99</td>\n",
       "      <td>True</td>\n",
       "      <td>0</td>\n",
       "      <td>Hi-Fi Speakers</td>\n",
       "    </tr>\n",
       "    <tr>\n",
       "      <th>2</th>\n",
       "      <td>3</td>\n",
       "      <td>B09B8YWXDF</td>\n",
       "      <td>Echo Dot (5th generation, 2022 release) | Big ...</td>\n",
       "      <td>4.70</td>\n",
       "      <td>15308</td>\n",
       "      <td>21.99</td>\n",
       "      <td>False</td>\n",
       "      <td>0</td>\n",
       "      <td>Hi-Fi Speakers</td>\n",
       "    </tr>\n",
       "    <tr>\n",
       "      <th>3</th>\n",
       "      <td>4</td>\n",
       "      <td>B09B8T5VGV</td>\n",
       "      <td>Echo Dot with clock (5th generation, 2022 rele...</td>\n",
       "      <td>4.70</td>\n",
       "      <td>7205</td>\n",
       "      <td>31.99</td>\n",
       "      <td>False</td>\n",
       "      <td>0</td>\n",
       "      <td>Hi-Fi Speakers</td>\n",
       "    </tr>\n",
       "    <tr>\n",
       "      <th>4</th>\n",
       "      <td>5</td>\n",
       "      <td>B09WX6QD65</td>\n",
       "      <td>Introducing Echo Pop | Full sound compact Wi-F...</td>\n",
       "      <td>4.60</td>\n",
       "      <td>1881</td>\n",
       "      <td>17.99</td>\n",
       "      <td>False</td>\n",
       "      <td>0</td>\n",
       "      <td>Hi-Fi Speakers</td>\n",
       "    </tr>\n",
       "    <tr>\n",
       "      <th>...</th>\n",
       "      <td>...</td>\n",
       "      <td>...</td>\n",
       "      <td>...</td>\n",
       "      <td>...</td>\n",
       "      <td>...</td>\n",
       "      <td>...</td>\n",
       "      <td>...</td>\n",
       "      <td>...</td>\n",
       "      <td>...</td>\n",
       "    </tr>\n",
       "    <tr>\n",
       "      <th>2443646</th>\n",
       "      <td>2828589</td>\n",
       "      <td>B0CHSD7P2Q</td>\n",
       "      <td>Motorbike Armour, Motorbike Clothing, Cycling ...</td>\n",
       "      <td>0.00</td>\n",
       "      <td>0</td>\n",
       "      <td>22.34</td>\n",
       "      <td>False</td>\n",
       "      <td>0</td>\n",
       "      <td>Motorbike Clothing</td>\n",
       "    </tr>\n",
       "    <tr>\n",
       "      <th>2443647</th>\n",
       "      <td>2828590</td>\n",
       "      <td>B0B7B8FNBQ</td>\n",
       "      <td>PROFIRST Waterproof Motorcycle 2 Piece Ladies ...</td>\n",
       "      <td>0.00</td>\n",
       "      <td>0</td>\n",
       "      <td>97.99</td>\n",
       "      <td>False</td>\n",
       "      <td>0</td>\n",
       "      <td>Motorbike Clothing</td>\n",
       "    </tr>\n",
       "    <tr>\n",
       "      <th>2443648</th>\n",
       "      <td>2828591</td>\n",
       "      <td>B0BD5FL5FB</td>\n",
       "      <td>Men’s Motorcycle Motorbike Biker Trousers Kevl...</td>\n",
       "      <td>0.00</td>\n",
       "      <td>0</td>\n",
       "      <td>52.99</td>\n",
       "      <td>False</td>\n",
       "      <td>0</td>\n",
       "      <td>Motorbike Clothing</td>\n",
       "    </tr>\n",
       "    <tr>\n",
       "      <th>2443649</th>\n",
       "      <td>2828592</td>\n",
       "      <td>B008OYLL4I</td>\n",
       "      <td>Texpeed Mens Motorcycle Motorbike Biker Trouse...</td>\n",
       "      <td>4.30</td>\n",
       "      <td>404</td>\n",
       "      <td>79.99</td>\n",
       "      <td>False</td>\n",
       "      <td>0</td>\n",
       "      <td>Motorbike Clothing</td>\n",
       "    </tr>\n",
       "    <tr>\n",
       "      <th>2443650</th>\n",
       "      <td>2828593</td>\n",
       "      <td>B08P3W9B3T</td>\n",
       "      <td>RIDEX CJ223 Motorcycle Motorbike Jacket Armour...</td>\n",
       "      <td>4.50</td>\n",
       "      <td>34</td>\n",
       "      <td>53.99</td>\n",
       "      <td>False</td>\n",
       "      <td>0</td>\n",
       "      <td>Motorbike Clothing</td>\n",
       "    </tr>\n",
       "  </tbody>\n",
       "</table>\n",
       "<p>2443651 rows × 9 columns</p>\n",
       "</div>"
      ],
      "text/plain": [
       "             uid        asin  \\\n",
       "0              1  B09B96TG33   \n",
       "1              2  B01HTH3C8S   \n",
       "2              3  B09B8YWXDF   \n",
       "3              4  B09B8T5VGV   \n",
       "4              5  B09WX6QD65   \n",
       "...          ...         ...   \n",
       "2443646  2828589  B0CHSD7P2Q   \n",
       "2443647  2828590  B0B7B8FNBQ   \n",
       "2443648  2828591  B0BD5FL5FB   \n",
       "2443649  2828592  B008OYLL4I   \n",
       "2443650  2828593  B08P3W9B3T   \n",
       "\n",
       "                                                     title  stars  reviews  \\\n",
       "0        Echo Dot (5th generation, 2022 release) | Big ...   4.70    15308   \n",
       "1        Anker Soundcore mini, Super-Portable Bluetooth...   4.70    98099   \n",
       "2        Echo Dot (5th generation, 2022 release) | Big ...   4.70    15308   \n",
       "3        Echo Dot with clock (5th generation, 2022 rele...   4.70     7205   \n",
       "4        Introducing Echo Pop | Full sound compact Wi-F...   4.60     1881   \n",
       "...                                                    ...    ...      ...   \n",
       "2443646  Motorbike Armour, Motorbike Clothing, Cycling ...   0.00        0   \n",
       "2443647  PROFIRST Waterproof Motorcycle 2 Piece Ladies ...   0.00        0   \n",
       "2443648  Men’s Motorcycle Motorbike Biker Trousers Kevl...   0.00        0   \n",
       "2443649  Texpeed Mens Motorcycle Motorbike Biker Trouse...   4.30      404   \n",
       "2443650  RIDEX CJ223 Motorcycle Motorbike Jacket Armour...   4.50       34   \n",
       "\n",
       "         price  isBestSeller  boughtInLastMonth            category  \n",
       "0        21.99         False                  0      Hi-Fi Speakers  \n",
       "1        23.99          True                  0      Hi-Fi Speakers  \n",
       "2        21.99         False                  0      Hi-Fi Speakers  \n",
       "3        31.99         False                  0      Hi-Fi Speakers  \n",
       "4        17.99         False                  0      Hi-Fi Speakers  \n",
       "...        ...           ...                ...                 ...  \n",
       "2443646  22.34         False                  0  Motorbike Clothing  \n",
       "2443647  97.99         False                  0  Motorbike Clothing  \n",
       "2443648  52.99         False                  0  Motorbike Clothing  \n",
       "2443649  79.99         False                  0  Motorbike Clothing  \n",
       "2443650  53.99         False                  0  Motorbike Clothing  \n",
       "\n",
       "[2443651 rows x 9 columns]"
      ]
     },
     "execution_count": 20,
     "metadata": {},
     "output_type": "execute_result"
    }
   ],
   "source": [
    "df"
   ]
  },
  {
   "cell_type": "code",
   "execution_count": 21,
   "id": "1190a88d-1206-4542-a552-8c43ea0fcb1e",
   "metadata": {},
   "outputs": [
    {
     "data": {
      "text/plain": [
       "count   2443651.00\n",
       "mean         89.24\n",
       "std         345.61\n",
       "min           0.00\n",
       "25%           9.99\n",
       "50%          19.09\n",
       "75%          45.99\n",
       "max      100000.00\n",
       "Name: price, dtype: float64"
      ]
     },
     "execution_count": 21,
     "metadata": {},
     "output_type": "execute_result"
    }
   ],
   "source": [
    "#mean and median (and quartiles and standard dev)\n",
    "df['price'].describe()"
   ]
  },
  {
   "cell_type": "code",
   "execution_count": 22,
   "id": "7684fc45-ac52-48b6-b212-12a8e935baed",
   "metadata": {},
   "outputs": [
    {
     "data": {
      "text/plain": [
       "0   9.99\n",
       "Name: price, dtype: float64"
      ]
     },
     "execution_count": 22,
     "metadata": {},
     "output_type": "execute_result"
    }
   ],
   "source": [
    "#mode\n",
    "df['price'].mode()"
   ]
  },
  {
   "cell_type": "markdown",
   "id": "679e1d18-8795-4480-b81e-85f9b5888447",
   "metadata": {},
   "source": [
    "The average price of products on this amazon UK listing is 89.24 GBP, while the most common price point is only 9.99, meaning that there are some higher priced item positively skewing the data (the median is also lower than the mean)."
   ]
  },
  {
   "cell_type": "code",
   "execution_count": 24,
   "id": "5afb34d6-0c63-4820-aabc-0b3d39cdf01d",
   "metadata": {},
   "outputs": [
    {
     "data": {
      "text/plain": [
       "119445.48532256528"
      ]
     },
     "execution_count": 24,
     "metadata": {},
     "output_type": "execute_result"
    }
   ],
   "source": [
    "df['price'].var()"
   ]
  },
  {
   "cell_type": "code",
   "execution_count": 25,
   "id": "c188504f-3c7d-4ffd-8c41-bbe886f50390",
   "metadata": {},
   "outputs": [
    {
     "data": {
      "text/plain": [
       "345.60886175352226"
      ]
     },
     "execution_count": 25,
     "metadata": {},
     "output_type": "execute_result"
    }
   ],
   "source": [
    "df['price'].std()"
   ]
  },
  {
   "cell_type": "code",
   "execution_count": 26,
   "id": "3c2da87b-6332-40ce-af40-f0ec91fdaa44",
   "metadata": {},
   "outputs": [
    {
     "data": {
      "text/plain": [
       "100000.0"
      ]
     },
     "execution_count": 26,
     "metadata": {},
     "output_type": "execute_result"
    }
   ],
   "source": [
    "df_range = df['price'].max()-df['price'].min()\n",
    "df_range"
   ]
  },
  {
   "cell_type": "code",
   "execution_count": 27,
   "id": "d213f42d-3e17-473b-aed8-51859619ba72",
   "metadata": {},
   "outputs": [
    {
     "data": {
      "text/plain": [
       "36.0"
      ]
     },
     "execution_count": 27,
     "metadata": {},
     "output_type": "execute_result"
    }
   ],
   "source": [
    "#interquartile range\n",
    "df_iqr = df['price'].quantile(0.75) - df['price'].quantile(0.25)\n",
    "df_iqr"
   ]
  },
  {
   "cell_type": "markdown",
   "id": "f9ee6b35-86b3-45b8-973d-19eceabd0135",
   "metadata": {},
   "source": [
    "The range and standard deviation, compared to the mode and mean, indicate a significant spread especially in the upper price segments, while the interquartile range is relatively small comparatively, indicating that over 50% of products fall within a rather narrow price window (between 9.99 and 45.99), the significant outliers being mostly in the upper price segment."
   ]
  },
  {
   "cell_type": "code",
   "execution_count": 29,
   "id": "9ad66bdc-7cc0-49f4-9d0a-b5fdba4179e3",
   "metadata": {},
   "outputs": [
    {
     "data": {
      "image/png": "[encoded data removed]",
      "text/plain": [
       "<Figure size 1000x600 with 1 Axes>"
      ]
     },
     "metadata": {},
     "output_type": "display_data"
    }
   ],
   "source": [
    "plt.figure(figsize=(10, 6))\n",
    "\n",
    "# Create the histogram\n",
    "sns.histplot(df['price'], bins=30, kde=False, color='blue')\n",
    "\n",
    "# Add labels and title\n",
    "plt.xlabel('Price')\n",
    "plt.ylabel('Count')\n",
    "plt.title('Distribution of Product Prices')\n",
    "\n",
    "plt.show()\n"
   ]
  },
  {
   "cell_type": "markdown",
   "id": "f5c7e993-b640-4c0e-8df9-b246be25a5cb",
   "metadata": {},
   "source": [
    "hard to read because massive outliers skew the price range"
   ]
  },
  {
   "cell_type": "code",
   "execution_count": 31,
   "id": "3e73394b-da35-4055-84d7-3fe46f25010e",
   "metadata": {},
   "outputs": [
    {
     "data": {
      "image/png": "[encoded data removed]",
      "text/plain": [
       "<Figure size 1000x600 with 1 Axes>"
      ]
     },
     "metadata": {},
     "output_type": "display_data"
    }
   ],
   "source": [
    "from matplotlib.ticker import FuncFormatter\n",
    "\n",
    "# Assuming df is your DataFrame and it contains a 'price' column\n",
    "plt.figure(figsize=(10, 6))\n",
    "\n",
    "# Create the histogram\n",
    "sns.histplot(df['price'], bins=30, kde=False, color='blue')\n",
    "\n",
    "# Format y-axis to avoid scientific notation\n",
    "plt.gca().yaxis.set_major_formatter(FuncFormatter(lambda x, _: f'{int(x):,}'))\n",
    "\n",
    "# Add labels and title\n",
    "plt.xlabel('Price')\n",
    "plt.ylabel('Count')\n",
    "plt.title('Distribution of Product Prices')\n",
    "\n",
    "plt.show()\n"
   ]
  },
  {
   "cell_type": "code",
   "execution_count": 32,
   "id": "0dbd760d-781e-4819-a272-00e79c2ca7f7",
   "metadata": {},
   "outputs": [],
   "source": [
    "#to solve the outlier problem, only display prices in the quantile range from 10-90%\n",
    "df_central = df[(df['price'] >= df['price'].quantile(0.1)) & (df['price'] <= df['price'].quantile(0.9))]\n"
   ]
  },
  {
   "cell_type": "code",
   "execution_count": null,
   "id": "00aec0f0-0278-458f-af9d-fe0ed35af3d4",
   "metadata": {},
   "outputs": [],
   "source": []
  },
  {
   "cell_type": "code",
   "execution_count": 33,
   "id": "c9d04738-98bd-41a5-9118-89b15d7ccdca",
   "metadata": {},
   "outputs": [
    {
     "data": {
      "text/plain": [
       "count   1979583.00\n",
       "mean         29.80\n",
       "std          28.28\n",
       "min           5.99\n",
       "25%          11.36\n",
       "50%          18.99\n",
       "75%          35.99\n",
       "max         149.99\n",
       "Name: price, dtype: float64"
      ]
     },
     "execution_count": 33,
     "metadata": {},
     "output_type": "execute_result"
    }
   ],
   "source": [
    "df_central['price'].describe()"
   ]
  },
  {
   "cell_type": "code",
   "execution_count": 34,
   "id": "1d65bd61-3658-44f0-8b66-be78ffaf439a",
   "metadata": {},
   "outputs": [
    {
     "data": {
      "image/png": "[encoded data removed]",
      "text/plain": [
       "<Figure size 1000x600 with 1 Axes>"
      ]
     },
     "metadata": {},
     "output_type": "display_data"
    }
   ],
   "source": [
    "from matplotlib.ticker import FuncFormatter\n",
    "\n",
    "# Assuming df is your DataFrame and it contains a 'price' column\n",
    "plt.figure(figsize=(10, 6))\n",
    "\n",
    "# Create the histogram\n",
    "sns.histplot(df_central['price'], bins=30, kde=False, color='blue')\n",
    "\n",
    "# Format y-axis to avoid scientific notation\n",
    "plt.gca().yaxis.set_major_formatter(FuncFormatter(lambda x, _: f'{int(x):,}'))\n",
    "\n",
    "# Add labels and title\n",
    "plt.xlabel('Price')\n",
    "plt.ylabel('Count')\n",
    "plt.title('Distribution of Product Prices')\n",
    "\n",
    "plt.show()\n"
   ]
  },
  {
   "cell_type": "code",
   "execution_count": 35,
   "id": "cd5e38cd-0df8-43bc-8f04-6a18f52e152b",
   "metadata": {},
   "outputs": [
    {
     "data": {
      "image/png": "[encoded data removed]",
      "text/plain": [
       "<Figure size 1000x600 with 1 Axes>"
      ]
     },
     "metadata": {},
     "output_type": "display_data"
    }
   ],
   "source": [
    "plt.figure(figsize=(10, 6))\n",
    "\n",
    "# Create the box plot\n",
    "sns.boxplot(x=df['price'], color='lightblue')\n",
    "\n",
    "# Add labels and title\n",
    "plt.xlabel('Price')\n",
    "plt.title('Box Plot of Product Prices')\n",
    "\n",
    "plt.show()\n"
   ]
  },
  {
   "cell_type": "markdown",
   "id": "678f8845-ee9e-41ab-aa59-e2d65d0b6acc",
   "metadata": {},
   "source": [
    "The box plot clearly shows 2 extreme outliers in the very high price range which could be discarded for proper analysis of the rest of the dataset. A good way would also be an interquartile visualisation or interquantile between 10-90% if one wants to get a bigger spread, like I did before."
   ]
  },
  {
   "cell_type": "code",
   "execution_count": 37,
   "id": "ab876078-055e-4a8b-b17a-182aa43e848c",
   "metadata": {},
   "outputs": [
    {
     "data": {
      "text/plain": [
       "price\n",
       "9.99       48922\n",
       "12.99      38823\n",
       "8.99       34058\n",
       "7.99       33632\n",
       "14.99      32570\n",
       "           ...  \n",
       "2398.99        1\n",
       "1453.08        1\n",
       "1785.63        1\n",
       "1347.36        1\n",
       "317.34         1\n",
       "Name: count, Length: 82916, dtype: int64"
      ]
     },
     "execution_count": 37,
     "metadata": {},
     "output_type": "execute_result"
    }
   ],
   "source": [
    "df['price'].value_counts()"
   ]
  },
  {
   "cell_type": "code",
   "execution_count": 38,
   "id": "97acb700-3358-427f-acc1-2cb4d1c020a3",
   "metadata": {},
   "outputs": [
    {
     "data": {
      "text/html": [
       "<div>\n",
       "<style scoped>\n",
       "    .dataframe tbody tr th:only-of-type {\n",
       "        vertical-align: middle;\n",
       "    }\n",
       "\n",
       "    .dataframe tbody tr th {\n",
       "        vertical-align: top;\n",
       "    }\n",
       "\n",
       "    .dataframe thead th {\n",
       "        text-align: right;\n",
       "    }\n",
       "</style>\n",
       "<table border=\"1\" class=\"dataframe\">\n",
       "  <thead>\n",
       "    <tr style=\"text-align: right;\">\n",
       "      <th></th>\n",
       "      <th>uid</th>\n",
       "      <th>asin</th>\n",
       "      <th>title</th>\n",
       "      <th>stars</th>\n",
       "      <th>reviews</th>\n",
       "      <th>price</th>\n",
       "      <th>isBestSeller</th>\n",
       "      <th>boughtInLastMonth</th>\n",
       "      <th>category</th>\n",
       "    </tr>\n",
       "  </thead>\n",
       "  <tbody>\n",
       "    <tr>\n",
       "      <th>2008013</th>\n",
       "      <td>2259336</td>\n",
       "      <td>B091F5Y3CT</td>\n",
       "      <td>HB FBA Test Treadmill</td>\n",
       "      <td>0.00</td>\n",
       "      <td>0</td>\n",
       "      <td>100000.00</td>\n",
       "      <td>False</td>\n",
       "      <td>0</td>\n",
       "      <td>Sports &amp; Outdoors</td>\n",
       "    </tr>\n",
       "    <tr>\n",
       "      <th>1987238</th>\n",
       "      <td>2235317</td>\n",
       "      <td>B0CDVKNBRV</td>\n",
       "      <td>Générique L.A 350° - I5 11400F - RTX 3050 8G -...</td>\n",
       "      <td>0.00</td>\n",
       "      <td>0</td>\n",
       "      <td>77752.00</td>\n",
       "      <td>False</td>\n",
       "      <td>0</td>\n",
       "      <td>Desktop PCs</td>\n",
       "    </tr>\n",
       "  </tbody>\n",
       "</table>\n",
       "</div>"
      ],
      "text/plain": [
       "             uid        asin  \\\n",
       "2008013  2259336  B091F5Y3CT   \n",
       "1987238  2235317  B0CDVKNBRV   \n",
       "\n",
       "                                                     title  stars  reviews  \\\n",
       "2008013                              HB FBA Test Treadmill   0.00        0   \n",
       "1987238  Générique L.A 350° - I5 11400F - RTX 3050 8G -...   0.00        0   \n",
       "\n",
       "            price  isBestSeller  boughtInLastMonth           category  \n",
       "2008013 100000.00         False                  0  Sports & Outdoors  \n",
       "1987238  77752.00         False                  0        Desktop PCs  "
      ]
     },
     "execution_count": 38,
     "metadata": {},
     "output_type": "execute_result"
    }
   ],
   "source": [
    "df.sort_values('price', ascending = False).head(2)"
   ]
  },
  {
   "cell_type": "code",
   "execution_count": 39,
   "id": "1b19a73a-1e12-429a-ad27-ed85ac1ad028",
   "metadata": {},
   "outputs": [],
   "source": [
    "df_price_sorted = df.sort_values('price', ascending = False)"
   ]
  },
  {
   "cell_type": "code",
   "execution_count": 40,
   "id": "8d266d84-eb45-48c9-abad-ac1b39ac67c0",
   "metadata": {},
   "outputs": [
    {
     "data": {
      "text/html": [
       "<div>\n",
       "<style scoped>\n",
       "    .dataframe tbody tr th:only-of-type {\n",
       "        vertical-align: middle;\n",
       "    }\n",
       "\n",
       "    .dataframe tbody tr th {\n",
       "        vertical-align: top;\n",
       "    }\n",
       "\n",
       "    .dataframe thead th {\n",
       "        text-align: right;\n",
       "    }\n",
       "</style>\n",
       "<table border=\"1\" class=\"dataframe\">\n",
       "  <thead>\n",
       "    <tr style=\"text-align: right;\">\n",
       "      <th></th>\n",
       "      <th>uid</th>\n",
       "      <th>asin</th>\n",
       "      <th>title</th>\n",
       "      <th>stars</th>\n",
       "      <th>reviews</th>\n",
       "      <th>price</th>\n",
       "      <th>isBestSeller</th>\n",
       "      <th>boughtInLastMonth</th>\n",
       "      <th>category</th>\n",
       "    </tr>\n",
       "  </thead>\n",
       "  <tbody>\n",
       "    <tr>\n",
       "      <th>2008013</th>\n",
       "      <td>2259336</td>\n",
       "      <td>B091F5Y3CT</td>\n",
       "      <td>HB FBA Test Treadmill</td>\n",
       "      <td>0.00</td>\n",
       "      <td>0</td>\n",
       "      <td>100000.00</td>\n",
       "      <td>False</td>\n",
       "      <td>0</td>\n",
       "      <td>Sports &amp; Outdoors</td>\n",
       "    </tr>\n",
       "    <tr>\n",
       "      <th>1987238</th>\n",
       "      <td>2235317</td>\n",
       "      <td>B0CDVKNBRV</td>\n",
       "      <td>Générique L.A 350° - I5 11400F - RTX 3050 8G -...</td>\n",
       "      <td>0.00</td>\n",
       "      <td>0</td>\n",
       "      <td>77752.00</td>\n",
       "      <td>False</td>\n",
       "      <td>0</td>\n",
       "      <td>Desktop PCs</td>\n",
       "    </tr>\n",
       "    <tr>\n",
       "      <th>1905315</th>\n",
       "      <td>2136904</td>\n",
       "      <td>B0CJSNFYVM</td>\n",
       "      <td>Abaodam decor christmas ornaments Desk Ornamen...</td>\n",
       "      <td>0.00</td>\n",
       "      <td>0</td>\n",
       "      <td>24674.59</td>\n",
       "      <td>False</td>\n",
       "      <td>0</td>\n",
       "      <td>Garden Storage &amp; Housing</td>\n",
       "    </tr>\n",
       "    <tr>\n",
       "      <th>1408966</th>\n",
       "      <td>1551117</td>\n",
       "      <td>B0CHT331TN</td>\n",
       "      <td>BM4445-FI1-01200R10-03-E03 Driver</td>\n",
       "      <td>0.00</td>\n",
       "      <td>0</td>\n",
       "      <td>23482.73</td>\n",
       "      <td>False</td>\n",
       "      <td>0</td>\n",
       "      <td>Scanners &amp; Accessories</td>\n",
       "    </tr>\n",
       "    <tr>\n",
       "      <th>319555</th>\n",
       "      <td>340285</td>\n",
       "      <td>B0CHYG6MNW</td>\n",
       "      <td>HEDUSA Halloween 3D Holographic Fan 3D Hologra...</td>\n",
       "      <td>0.00</td>\n",
       "      <td>0</td>\n",
       "      <td>22933.42</td>\n",
       "      <td>False</td>\n",
       "      <td>0</td>\n",
       "      <td>Projectors</td>\n",
       "    </tr>\n",
       "    <tr>\n",
       "      <th>...</th>\n",
       "      <td>...</td>\n",
       "      <td>...</td>\n",
       "      <td>...</td>\n",
       "      <td>...</td>\n",
       "      <td>...</td>\n",
       "      <td>...</td>\n",
       "      <td>...</td>\n",
       "      <td>...</td>\n",
       "      <td>...</td>\n",
       "    </tr>\n",
       "    <tr>\n",
       "      <th>794353</th>\n",
       "      <td>855945</td>\n",
       "      <td>B07T7L39TN</td>\n",
       "      <td>Never Split the Difference: Negotiating as if ...</td>\n",
       "      <td>4.60</td>\n",
       "      <td>39112</td>\n",
       "      <td>0.00</td>\n",
       "      <td>True</td>\n",
       "      <td>0</td>\n",
       "      <td>School &amp; Educational Supplies</td>\n",
       "    </tr>\n",
       "    <tr>\n",
       "      <th>1422882</th>\n",
       "      <td>1565480</td>\n",
       "      <td>B0055SY77Y</td>\n",
       "      <td>Einstein's Tennis Racket (Einstein-Uber years)</td>\n",
       "      <td>5.00</td>\n",
       "      <td>1</td>\n",
       "      <td>0.00</td>\n",
       "      <td>False</td>\n",
       "      <td>0</td>\n",
       "      <td>Sports &amp; Outdoors</td>\n",
       "    </tr>\n",
       "    <tr>\n",
       "      <th>1075630</th>\n",
       "      <td>1187147</td>\n",
       "      <td>B0BQHJN9KP</td>\n",
       "      <td>DMR - Digital Mobile Radio Explained BTECH DMR...</td>\n",
       "      <td>4.60</td>\n",
       "      <td>3</td>\n",
       "      <td>0.00</td>\n",
       "      <td>False</td>\n",
       "      <td>0</td>\n",
       "      <td>Radio Communication</td>\n",
       "    </tr>\n",
       "    <tr>\n",
       "      <th>836136</th>\n",
       "      <td>911439</td>\n",
       "      <td>B0BLFPRMZH</td>\n",
       "      <td>Dungeons &amp; Guardians: Battleborne, Book III</td>\n",
       "      <td>4.70</td>\n",
       "      <td>2421</td>\n",
       "      <td>0.00</td>\n",
       "      <td>False</td>\n",
       "      <td>0</td>\n",
       "      <td>Games &amp; Game Accessories</td>\n",
       "    </tr>\n",
       "    <tr>\n",
       "      <th>1532255</th>\n",
       "      <td>1727033</td>\n",
       "      <td>B082H1M3WM</td>\n",
       "      <td>Folklore and Fables II: An alternative look at...</td>\n",
       "      <td>4.70</td>\n",
       "      <td>14</td>\n",
       "      <td>0.00</td>\n",
       "      <td>False</td>\n",
       "      <td>0</td>\n",
       "      <td>Sports &amp; Outdoors</td>\n",
       "    </tr>\n",
       "  </tbody>\n",
       "</table>\n",
       "<p>2443651 rows × 9 columns</p>\n",
       "</div>"
      ],
      "text/plain": [
       "             uid        asin  \\\n",
       "2008013  2259336  B091F5Y3CT   \n",
       "1987238  2235317  B0CDVKNBRV   \n",
       "1905315  2136904  B0CJSNFYVM   \n",
       "1408966  1551117  B0CHT331TN   \n",
       "319555    340285  B0CHYG6MNW   \n",
       "...          ...         ...   \n",
       "794353    855945  B07T7L39TN   \n",
       "1422882  1565480  B0055SY77Y   \n",
       "1075630  1187147  B0BQHJN9KP   \n",
       "836136    911439  B0BLFPRMZH   \n",
       "1532255  1727033  B082H1M3WM   \n",
       "\n",
       "                                                     title  stars  reviews  \\\n",
       "2008013                              HB FBA Test Treadmill   0.00        0   \n",
       "1987238  Générique L.A 350° - I5 11400F - RTX 3050 8G -...   0.00        0   \n",
       "1905315  Abaodam decor christmas ornaments Desk Ornamen...   0.00        0   \n",
       "1408966                  BM4445-FI1-01200R10-03-E03 Driver   0.00        0   \n",
       "319555   HEDUSA Halloween 3D Holographic Fan 3D Hologra...   0.00        0   \n",
       "...                                                    ...    ...      ...   \n",
       "794353   Never Split the Difference: Negotiating as if ...   4.60    39112   \n",
       "1422882     Einstein's Tennis Racket (Einstein-Uber years)   5.00        1   \n",
       "1075630  DMR - Digital Mobile Radio Explained BTECH DMR...   4.60        3   \n",
       "836136         Dungeons & Guardians: Battleborne, Book III   4.70     2421   \n",
       "1532255  Folklore and Fables II: An alternative look at...   4.70       14   \n",
       "\n",
       "            price  isBestSeller  boughtInLastMonth  \\\n",
       "2008013 100000.00         False                  0   \n",
       "1987238  77752.00         False                  0   \n",
       "1905315  24674.59         False                  0   \n",
       "1408966  23482.73         False                  0   \n",
       "319555   22933.42         False                  0   \n",
       "...           ...           ...                ...   \n",
       "794353       0.00          True                  0   \n",
       "1422882      0.00         False                  0   \n",
       "1075630      0.00         False                  0   \n",
       "836136       0.00         False                  0   \n",
       "1532255      0.00         False                  0   \n",
       "\n",
       "                              category  \n",
       "2008013              Sports & Outdoors  \n",
       "1987238                    Desktop PCs  \n",
       "1905315       Garden Storage & Housing  \n",
       "1408966         Scanners & Accessories  \n",
       "319555                      Projectors  \n",
       "...                                ...  \n",
       "794353   School & Educational Supplies  \n",
       "1422882              Sports & Outdoors  \n",
       "1075630            Radio Communication  \n",
       "836136        Games & Game Accessories  \n",
       "1532255              Sports & Outdoors  \n",
       "\n",
       "[2443651 rows x 9 columns]"
      ]
     },
     "execution_count": 40,
     "metadata": {},
     "output_type": "execute_result"
    }
   ],
   "source": [
    "df_price_sorted"
   ]
  },
  {
   "cell_type": "code",
   "execution_count": 41,
   "id": "565060e9-f068-4bb8-9140-f31fcdee4e3e",
   "metadata": {},
   "outputs": [],
   "source": [
    "df_price_sorted_nooutlier = df_price_sorted.drop(df_price_sorted.index[:2])"
   ]
  },
  {
   "cell_type": "code",
   "execution_count": 42,
   "id": "64d92bf5-135a-4315-9ef0-a3440ffbcb49",
   "metadata": {},
   "outputs": [
    {
     "data": {
      "image/png": "[encoded data removed]",
      "text/plain": [
       "<Figure size 1000x600 with 1 Axes>"
      ]
     },
     "metadata": {},
     "output_type": "display_data"
    }
   ],
   "source": [
    "#box plot without the two biggest outliers\n",
    "\n",
    "plt.figure(figsize=(10, 6))\n",
    "\n",
    "# Create the box plot\n",
    "sns.boxplot(x=df_price_sorted_nooutlier['price'], color='lightblue')\n",
    "\n",
    "# Add labels and title\n",
    "plt.xlabel('Price')\n",
    "plt.title('Box Plot of Product Prices')\n",
    "\n",
    "plt.show()\n"
   ]
  },
  {
   "cell_type": "code",
   "execution_count": 43,
   "id": "17061928-5572-4fb1-9235-3dcd9e9b5191",
   "metadata": {},
   "outputs": [
    {
     "data": {
      "image/png": "[encoded data removed]",
      "text/plain": [
       "<Figure size 1000x600 with 1 Axes>"
      ]
     },
     "metadata": {},
     "output_type": "display_data"
    }
   ],
   "source": [
    "#box plot of interquantile range 10-90%\n",
    "\n",
    "plt.figure(figsize=(10, 6))\n",
    "\n",
    "# Create the box plot\n",
    "sns.boxplot(x=df_central['price'], color='lightblue')\n",
    "\n",
    "# Add labels and title\n",
    "plt.xlabel('Price')\n",
    "plt.title('Box Plot of Product Prices')\n",
    "\n",
    "plt.show()\n"
   ]
  },
  {
   "cell_type": "code",
   "execution_count": 44,
   "id": "86cba69e-0bce-412a-9808-3bfc58c2b5c4",
   "metadata": {},
   "outputs": [],
   "source": [
    "df_iq = df[(df['price'] >= df['price'].quantile(0.25)) & (df['price'] <= df['price'].quantile(0.75))]"
   ]
  },
  {
   "cell_type": "code",
   "execution_count": 45,
   "id": "20066c2a-a1e1-47a6-bfa4-fb2becf258cf",
   "metadata": {},
   "outputs": [
    {
     "data": {
      "image/png": "[encoded data removed]",
      "text/plain": [
       "<Figure size 1000x600 with 1 Axes>"
      ]
     },
     "metadata": {},
     "output_type": "display_data"
    }
   ],
   "source": [
    "#box plot of interquartile range\n",
    "\n",
    "plt.figure(figsize=(10, 6))\n",
    "\n",
    "# Create the box plot\n",
    "sns.boxplot(x=df_iq['price'], color='lightblue')\n",
    "\n",
    "# Add labels and title\n",
    "plt.xlabel('Price')\n",
    "plt.title('Box Plot of Product Prices')\n",
    "\n",
    "plt.show()\n"
   ]
  },
  {
   "cell_type": "code",
   "execution_count": 46,
   "id": "7f4d9a22-0605-4d8d-bc0c-f50384b0a1c6",
   "metadata": {},
   "outputs": [
    {
     "data": {
      "text/html": [
       "<div>\n",
       "<style scoped>\n",
       "    .dataframe tbody tr th:only-of-type {\n",
       "        vertical-align: middle;\n",
       "    }\n",
       "\n",
       "    .dataframe tbody tr th {\n",
       "        vertical-align: top;\n",
       "    }\n",
       "\n",
       "    .dataframe thead th {\n",
       "        text-align: right;\n",
       "    }\n",
       "</style>\n",
       "<table border=\"1\" class=\"dataframe\">\n",
       "  <thead>\n",
       "    <tr style=\"text-align: right;\">\n",
       "      <th></th>\n",
       "      <th>uid</th>\n",
       "      <th>asin</th>\n",
       "      <th>title</th>\n",
       "      <th>stars</th>\n",
       "      <th>reviews</th>\n",
       "      <th>price</th>\n",
       "      <th>isBestSeller</th>\n",
       "      <th>boughtInLastMonth</th>\n",
       "      <th>category</th>\n",
       "    </tr>\n",
       "  </thead>\n",
       "  <tbody>\n",
       "    <tr>\n",
       "      <th>0</th>\n",
       "      <td>1</td>\n",
       "      <td>B09B96TG33</td>\n",
       "      <td>Echo Dot (5th generation, 2022 release) | Big ...</td>\n",
       "      <td>4.70</td>\n",
       "      <td>15308</td>\n",
       "      <td>21.99</td>\n",
       "      <td>False</td>\n",
       "      <td>0</td>\n",
       "      <td>Hi-Fi Speakers</td>\n",
       "    </tr>\n",
       "    <tr>\n",
       "      <th>1</th>\n",
       "      <td>2</td>\n",
       "      <td>B01HTH3C8S</td>\n",
       "      <td>Anker Soundcore mini, Super-Portable Bluetooth...</td>\n",
       "      <td>4.70</td>\n",
       "      <td>98099</td>\n",
       "      <td>23.99</td>\n",
       "      <td>True</td>\n",
       "      <td>0</td>\n",
       "      <td>Hi-Fi Speakers</td>\n",
       "    </tr>\n",
       "    <tr>\n",
       "      <th>2</th>\n",
       "      <td>3</td>\n",
       "      <td>B09B8YWXDF</td>\n",
       "      <td>Echo Dot (5th generation, 2022 release) | Big ...</td>\n",
       "      <td>4.70</td>\n",
       "      <td>15308</td>\n",
       "      <td>21.99</td>\n",
       "      <td>False</td>\n",
       "      <td>0</td>\n",
       "      <td>Hi-Fi Speakers</td>\n",
       "    </tr>\n",
       "    <tr>\n",
       "      <th>3</th>\n",
       "      <td>4</td>\n",
       "      <td>B09B8T5VGV</td>\n",
       "      <td>Echo Dot with clock (5th generation, 2022 rele...</td>\n",
       "      <td>4.70</td>\n",
       "      <td>7205</td>\n",
       "      <td>31.99</td>\n",
       "      <td>False</td>\n",
       "      <td>0</td>\n",
       "      <td>Hi-Fi Speakers</td>\n",
       "    </tr>\n",
       "    <tr>\n",
       "      <th>4</th>\n",
       "      <td>5</td>\n",
       "      <td>B09WX6QD65</td>\n",
       "      <td>Introducing Echo Pop | Full sound compact Wi-F...</td>\n",
       "      <td>4.60</td>\n",
       "      <td>1881</td>\n",
       "      <td>17.99</td>\n",
       "      <td>False</td>\n",
       "      <td>0</td>\n",
       "      <td>Hi-Fi Speakers</td>\n",
       "    </tr>\n",
       "    <tr>\n",
       "      <th>...</th>\n",
       "      <td>...</td>\n",
       "      <td>...</td>\n",
       "      <td>...</td>\n",
       "      <td>...</td>\n",
       "      <td>...</td>\n",
       "      <td>...</td>\n",
       "      <td>...</td>\n",
       "      <td>...</td>\n",
       "      <td>...</td>\n",
       "    </tr>\n",
       "    <tr>\n",
       "      <th>2443646</th>\n",
       "      <td>2828589</td>\n",
       "      <td>B0CHSD7P2Q</td>\n",
       "      <td>Motorbike Armour, Motorbike Clothing, Cycling ...</td>\n",
       "      <td>0.00</td>\n",
       "      <td>0</td>\n",
       "      <td>22.34</td>\n",
       "      <td>False</td>\n",
       "      <td>0</td>\n",
       "      <td>Motorbike Clothing</td>\n",
       "    </tr>\n",
       "    <tr>\n",
       "      <th>2443647</th>\n",
       "      <td>2828590</td>\n",
       "      <td>B0B7B8FNBQ</td>\n",
       "      <td>PROFIRST Waterproof Motorcycle 2 Piece Ladies ...</td>\n",
       "      <td>0.00</td>\n",
       "      <td>0</td>\n",
       "      <td>97.99</td>\n",
       "      <td>False</td>\n",
       "      <td>0</td>\n",
       "      <td>Motorbike Clothing</td>\n",
       "    </tr>\n",
       "    <tr>\n",
       "      <th>2443648</th>\n",
       "      <td>2828591</td>\n",
       "      <td>B0BD5FL5FB</td>\n",
       "      <td>Men’s Motorcycle Motorbike Biker Trousers Kevl...</td>\n",
       "      <td>0.00</td>\n",
       "      <td>0</td>\n",
       "      <td>52.99</td>\n",
       "      <td>False</td>\n",
       "      <td>0</td>\n",
       "      <td>Motorbike Clothing</td>\n",
       "    </tr>\n",
       "    <tr>\n",
       "      <th>2443649</th>\n",
       "      <td>2828592</td>\n",
       "      <td>B008OYLL4I</td>\n",
       "      <td>Texpeed Mens Motorcycle Motorbike Biker Trouse...</td>\n",
       "      <td>4.30</td>\n",
       "      <td>404</td>\n",
       "      <td>79.99</td>\n",
       "      <td>False</td>\n",
       "      <td>0</td>\n",
       "      <td>Motorbike Clothing</td>\n",
       "    </tr>\n",
       "    <tr>\n",
       "      <th>2443650</th>\n",
       "      <td>2828593</td>\n",
       "      <td>B08P3W9B3T</td>\n",
       "      <td>RIDEX CJ223 Motorcycle Motorbike Jacket Armour...</td>\n",
       "      <td>4.50</td>\n",
       "      <td>34</td>\n",
       "      <td>53.99</td>\n",
       "      <td>False</td>\n",
       "      <td>0</td>\n",
       "      <td>Motorbike Clothing</td>\n",
       "    </tr>\n",
       "  </tbody>\n",
       "</table>\n",
       "<p>2443651 rows × 9 columns</p>\n",
       "</div>"
      ],
      "text/plain": [
       "             uid        asin  \\\n",
       "0              1  B09B96TG33   \n",
       "1              2  B01HTH3C8S   \n",
       "2              3  B09B8YWXDF   \n",
       "3              4  B09B8T5VGV   \n",
       "4              5  B09WX6QD65   \n",
       "...          ...         ...   \n",
       "2443646  2828589  B0CHSD7P2Q   \n",
       "2443647  2828590  B0B7B8FNBQ   \n",
       "2443648  2828591  B0BD5FL5FB   \n",
       "2443649  2828592  B008OYLL4I   \n",
       "2443650  2828593  B08P3W9B3T   \n",
       "\n",
       "                                                     title  stars  reviews  \\\n",
       "0        Echo Dot (5th generation, 2022 release) | Big ...   4.70    15308   \n",
       "1        Anker Soundcore mini, Super-Portable Bluetooth...   4.70    98099   \n",
       "2        Echo Dot (5th generation, 2022 release) | Big ...   4.70    15308   \n",
       "3        Echo Dot with clock (5th generation, 2022 rele...   4.70     7205   \n",
       "4        Introducing Echo Pop | Full sound compact Wi-F...   4.60     1881   \n",
       "...                                                    ...    ...      ...   \n",
       "2443646  Motorbike Armour, Motorbike Clothing, Cycling ...   0.00        0   \n",
       "2443647  PROFIRST Waterproof Motorcycle 2 Piece Ladies ...   0.00        0   \n",
       "2443648  Men’s Motorcycle Motorbike Biker Trousers Kevl...   0.00        0   \n",
       "2443649  Texpeed Mens Motorcycle Motorbike Biker Trouse...   4.30      404   \n",
       "2443650  RIDEX CJ223 Motorcycle Motorbike Jacket Armour...   4.50       34   \n",
       "\n",
       "         price  isBestSeller  boughtInLastMonth            category  \n",
       "0        21.99         False                  0      Hi-Fi Speakers  \n",
       "1        23.99          True                  0      Hi-Fi Speakers  \n",
       "2        21.99         False                  0      Hi-Fi Speakers  \n",
       "3        31.99         False                  0      Hi-Fi Speakers  \n",
       "4        17.99         False                  0      Hi-Fi Speakers  \n",
       "...        ...           ...                ...                 ...  \n",
       "2443646  22.34         False                  0  Motorbike Clothing  \n",
       "2443647  97.99         False                  0  Motorbike Clothing  \n",
       "2443648  52.99         False                  0  Motorbike Clothing  \n",
       "2443649  79.99         False                  0  Motorbike Clothing  \n",
       "2443650  53.99         False                  0  Motorbike Clothing  \n",
       "\n",
       "[2443651 rows x 9 columns]"
      ]
     },
     "execution_count": 46,
     "metadata": {},
     "output_type": "execute_result"
    }
   ],
   "source": [
    "df"
   ]
  },
  {
   "cell_type": "code",
   "execution_count": 47,
   "id": "0c8da9f3-f641-4b19-aea6-d31fd6c7c38e",
   "metadata": {},
   "outputs": [
    {
     "data": {
      "text/plain": [
       "count   2443651.00\n",
       "mean          2.15\n",
       "std           2.19\n",
       "min           0.00\n",
       "25%           0.00\n",
       "50%           0.00\n",
       "75%           4.40\n",
       "max           5.00\n",
       "Name: stars, dtype: float64"
      ]
     },
     "execution_count": 47,
     "metadata": {},
     "output_type": "execute_result"
    }
   ],
   "source": [
    "df['stars'].describe()"
   ]
  },
  {
   "cell_type": "code",
   "execution_count": 48,
   "id": "df83c8fd-b308-4f4e-bf06-3e46250a2c83",
   "metadata": {},
   "outputs": [
    {
     "data": {
      "text/plain": [
       "0   0.00\n",
       "Name: stars, dtype: float64"
      ]
     },
     "execution_count": 48,
     "metadata": {},
     "output_type": "execute_result"
    }
   ],
   "source": [
    "df['stars'].mode()"
   ]
  },
  {
   "cell_type": "code",
   "execution_count": 49,
   "id": "2ff9dd34-5c54-4af5-83f6-e197f9dcf67f",
   "metadata": {},
   "outputs": [
    {
     "data": {
      "text/plain": [
       "stars\n",
       "0.00    1225641\n",
       "4.50     151577\n",
       "4.60     136995\n",
       "4.40     136165\n",
       "5.00     128492\n",
       "4.30     112564\n",
       "4.70      94566\n",
       "4.20      86871\n",
       "4.00      66089\n",
       "4.10      65115\n",
       "4.80      41858\n",
       "3.90      36555\n",
       "3.80      27876\n",
       "3.70      21137\n",
       "3.60      16219\n",
       "3.50      14673\n",
       "3.00      12819\n",
       "4.90      11081\n",
       "3.40      10355\n",
       "1.00       8484\n",
       "3.30       8269\n",
       "3.20       5771\n",
       "3.10       4679\n",
       "2.00       3901\n",
       "2.90       3341\n",
       "2.80       2306\n",
       "2.70       2104\n",
       "2.50       2103\n",
       "2.60       1579\n",
       "2.40       1060\n",
       "2.30        734\n",
       "2.20        602\n",
       "2.10        540\n",
       "1.50        404\n",
       "1.90        300\n",
       "1.80        249\n",
       "1.70        177\n",
       "1.40        149\n",
       "1.60        147\n",
       "1.30         78\n",
       "1.20         23\n",
       "1.10          3\n",
       "Name: count, dtype: int64"
      ]
     },
     "execution_count": 49,
     "metadata": {},
     "output_type": "execute_result"
    }
   ],
   "source": [
    "df['stars'].value_counts()"
   ]
  },
  {
   "cell_type": "markdown",
   "id": "007a9bc7-6b21-4344-af34-42da8b29ba75",
   "metadata": {},
   "source": [
    "It is evident that most customers do not rate products at all, with 0 stars given being the most frequented value. Of those that choose to leave a review the most frequent ones are very good ones ranging from 4.5 to 5."
   ]
  },
  {
   "cell_type": "code",
   "execution_count": 96,
   "id": "55b08c20-12d8-459b-a380-0d52538781ac",
   "metadata": {},
   "outputs": [
    {
     "data": {
      "text/plain": [
       "4.81743402976196"
      ]
     },
     "execution_count": 96,
     "metadata": {},
     "output_type": "execute_result"
    }
   ],
   "source": [
    "df['stars'].var()"
   ]
  },
  {
   "cell_type": "code",
   "execution_count": 98,
   "id": "4a63a08b-c39e-440b-a0a6-5b131451884f",
   "metadata": {},
   "outputs": [
    {
     "data": {
      "text/plain": [
       "2.1948653785054697"
      ]
     },
     "execution_count": 98,
     "metadata": {},
     "output_type": "execute_result"
    }
   ],
   "source": [
    "df['stars'].std()"
   ]
  },
  {
   "cell_type": "code",
   "execution_count": 108,
   "id": "6c76a467-770e-4e9e-a9ef-2ac2b5c90a54",
   "metadata": {},
   "outputs": [
    {
     "data": {
      "text/plain": [
       "count   2443651.00\n",
       "mean          2.15\n",
       "std           2.19\n",
       "min           0.00\n",
       "25%           0.00\n",
       "50%           0.00\n",
       "75%           4.40\n",
       "max           5.00\n",
       "Name: stars, dtype: float64"
      ]
     },
     "execution_count": 108,
     "metadata": {},
     "output_type": "execute_result"
    }
   ],
   "source": [
    "df['stars'].describe()"
   ]
  },
  {
   "cell_type": "code",
   "execution_count": 114,
   "id": "ba4a1651-509b-4fc8-8fa3-72454682a3e8",
   "metadata": {},
   "outputs": [
    {
     "data": {
      "text/plain": [
       "4.4"
      ]
     },
     "execution_count": 114,
     "metadata": {},
     "output_type": "execute_result"
    }
   ],
   "source": [
    "q3,q1 = np.percentile(df['stars'], [75, 25])\n",
    "iqr_stars = q3 - q1\n",
    "iqr_stars"
   ]
  },
  {
   "cell_type": "code",
   "execution_count": null,
   "id": "f01f5bb9-8a71-42dd-9c87-5360b03028fc",
   "metadata": {},
   "outputs": [],
   "source": []
  },
  {
   "cell_type": "code",
   "execution_count": null,
   "id": "fb5f195c-3a3c-4f7a-9115-d158bc6ba86a",
   "metadata": {},
   "outputs": [],
   "source": []
  },
  {
   "cell_type": "code",
   "execution_count": 112,
   "id": "7fb6423d-ea95-4e62-bf78-45f2499dad93",
   "metadata": {},
   "outputs": [
    {
     "data": {
      "image/png": "[encoded data removed]",
      "text/plain": [
       "<Figure size 1000x600 with 1 Axes>"
      ]
     },
     "metadata": {},
     "output_type": "display_data"
    }
   ],
   "source": [
    "#box plot of reviews\n",
    "\n",
    "plt.figure(figsize=(10, 6))\n",
    "\n",
    "# Create the box plot\n",
    "sns.boxplot(x=df['stars'], color='lightblue')\n",
    "\n",
    "# Add labels and title\n",
    "plt.xlabel('Stars')\n",
    "plt.title('Box Plot of Reviews')\n",
    "\n",
    "plt.show()\n"
   ]
  },
  {
   "cell_type": "code",
   "execution_count": 118,
   "id": "226de244-56d0-41ec-bf55-457641f144c1",
   "metadata": {},
   "outputs": [],
   "source": [
    "df_stars_iqr = df[(df['stars'] >= df['stars'].quantile(0.25)) & (df['stars'] <= df['stars'].quantile(0.75))]"
   ]
  },
  {
   "cell_type": "code",
   "execution_count": 120,
   "id": "2da98635-99cf-4774-b19e-819dfad01dc2",
   "metadata": {},
   "outputs": [
    {
     "data": {
      "image/png": "[encoded data removed]",
      "text/plain": [
       "<Figure size 1000x600 with 1 Axes>"
      ]
     },
     "metadata": {},
     "output_type": "display_data"
    }
   ],
   "source": [
    "#box plot of reviews\n",
    "\n",
    "plt.figure(figsize=(10, 6))\n",
    "\n",
    "# Create the box plot\n",
    "sns.boxplot(x=df_stars_iqr['stars'], color='lightblue')\n",
    "\n",
    "# Add labels and title\n",
    "plt.xlabel('Stars')\n",
    "plt.title('Box Plot of Reviews')\n",
    "\n",
    "plt.show()\n"
   ]
  },
  {
   "cell_type": "code",
   "execution_count": 122,
   "id": "61223631-b78c-443a-be65-8b47f8e814f1",
   "metadata": {},
   "outputs": [
    {
     "data": {
      "image/png": "[encoded data removed]",
      "text/plain": [
       "<Figure size 1000x600 with 1 Axes>"
      ]
     },
     "metadata": {},
     "output_type": "display_data"
    }
   ],
   "source": [
    "from matplotlib.ticker import FuncFormatter\n",
    "\n",
    "# Assuming df is your DataFrame and it contains a 'price' column\n",
    "plt.figure(figsize=(10, 6))\n",
    "\n",
    "# Create the histogram\n",
    "sns.histplot(df['stars'], kde=False, color='blue')\n",
    "\n",
    "# Format y-axis to avoid scientific notation\n",
    "plt.gca().yaxis.set_major_formatter(FuncFormatter(lambda x, _: f'{int(x):,}'))\n",
    "\n",
    "# Add labels and title\n",
    "plt.xlabel('Reviews')\n",
    "plt.ylabel('Count')\n",
    "plt.title('Distribution of Review Ratings')\n",
    "\n",
    "plt.show()"
   ]
  },
  {
   "cell_type": "code",
   "execution_count": 124,
   "id": "3fc21d1d-fe57-4aaf-9da1-96892be72f6a",
   "metadata": {},
   "outputs": [],
   "source": [
    "df_stars_nozero = df[df['stars'] != 0]"
   ]
  },
  {
   "cell_type": "code",
   "execution_count": 128,
   "id": "debc4542-9d5e-45a8-952b-e123dda3b156",
   "metadata": {},
   "outputs": [
    {
     "data": {
      "text/plain": [
       "stars\n",
       "4.50    151577\n",
       "4.60    136995\n",
       "4.40    136165\n",
       "5.00    128492\n",
       "4.30    112564\n",
       "4.70     94566\n",
       "4.20     86871\n",
       "4.00     66089\n",
       "4.10     65115\n",
       "4.80     41858\n",
       "3.90     36555\n",
       "3.80     27876\n",
       "3.70     21137\n",
       "3.60     16219\n",
       "3.50     14673\n",
       "3.00     12819\n",
       "4.90     11081\n",
       "3.40     10355\n",
       "1.00      8484\n",
       "3.30      8269\n",
       "3.20      5771\n",
       "3.10      4679\n",
       "2.00      3901\n",
       "2.90      3341\n",
       "2.80      2306\n",
       "2.70      2104\n",
       "2.50      2103\n",
       "2.60      1579\n",
       "2.40      1060\n",
       "2.30       734\n",
       "2.20       602\n",
       "2.10       540\n",
       "1.50       404\n",
       "1.90       300\n",
       "1.80       249\n",
       "1.70       177\n",
       "1.40       149\n",
       "1.60       147\n",
       "1.30        78\n",
       "1.20        23\n",
       "1.10         3\n",
       "Name: count, dtype: int64"
      ]
     },
     "execution_count": 128,
     "metadata": {},
     "output_type": "execute_result"
    }
   ],
   "source": [
    "df_stars_nozero['stars'].value_counts()"
   ]
  },
  {
   "cell_type": "code",
   "execution_count": 132,
   "id": "c49ef35c-e333-41b5-90d7-2e7a0f113ffd",
   "metadata": {},
   "outputs": [
    {
     "data": {
      "image/png": "[encoded data removed]",
      "text/plain": [
       "<Figure size 1000x600 with 1 Axes>"
      ]
     },
     "metadata": {},
     "output_type": "display_data"
    }
   ],
   "source": [
    "#box plot of reviews without 0\n",
    "\n",
    "plt.figure(figsize=(10, 6))\n",
    "\n",
    "# Create the box plot\n",
    "sns.boxplot(x=df_stars_nozero['stars'], color='lightblue')\n",
    "\n",
    "# Add labels and title\n",
    "plt.xlabel('Stars')\n",
    "plt.title('Box Plot of Reviews')\n",
    "\n",
    "plt.show()\n"
   ]
  },
  {
   "cell_type": "code",
   "execution_count": 130,
   "id": "0d53cbcf-7183-45b1-a481-3a1259bd948e",
   "metadata": {},
   "outputs": [
    {
     "data": {
      "image/png": "[encoded data removed]",
      "text/plain": [
       "<Figure size 1000x600 with 1 Axes>"
      ]
     },
     "metadata": {},
     "output_type": "display_data"
    }
   ],
   "source": [
    "#histplot of reviews without zero\n",
    "\n",
    "from matplotlib.ticker import FuncFormatter\n",
    "\n",
    "# Assuming df is your DataFrame and it contains a 'price' column\n",
    "plt.figure(figsize=(10, 6))\n",
    "\n",
    "# Create the histogram\n",
    "sns.histplot(df_stars_nozero['stars'], kde=False, color='blue')\n",
    "\n",
    "# Format y-axis to avoid scientific notation\n",
    "plt.gca().yaxis.set_major_formatter(FuncFormatter(lambda x, _: f'{int(x):,}'))\n",
    "\n",
    "# Add labels and title\n",
    "plt.xlabel('Reviews')\n",
    "plt.ylabel('Count')\n",
    "plt.title('Distribution of Review Ratings')\n",
    "\n",
    "plt.show()"
   ]
  },
  {
   "cell_type": "code",
   "execution_count": 134,
   "id": "7ba88ea0-ed4d-44d5-9b3d-b990bb086bd9",
   "metadata": {},
   "outputs": [
    {
     "data": {
      "text/plain": [
       "count   1218010.00\n",
       "mean          4.32\n",
       "std           0.56\n",
       "min           1.00\n",
       "25%           4.10\n",
       "50%           4.40\n",
       "75%           4.60\n",
       "max           5.00\n",
       "Name: stars, dtype: float64"
      ]
     },
     "execution_count": 134,
     "metadata": {},
     "output_type": "execute_result"
    }
   ],
   "source": [
    "df_stars_nozero['stars'].describe()"
   ]
  },
  {
   "cell_type": "code",
   "execution_count": 138,
   "id": "0304d52f-c6c5-45cd-9567-1942f02b4b54",
   "metadata": {},
   "outputs": [
    {
     "data": {
      "text/plain": [
       "0   4.50\n",
       "Name: stars, dtype: float64"
      ]
     },
     "execution_count": 138,
     "metadata": {},
     "output_type": "execute_result"
    }
   ],
   "source": [
    "df_stars_nozero['stars'].mode()"
   ]
  },
  {
   "cell_type": "code",
   "execution_count": 136,
   "id": "f9487d9a-d3a8-4fbf-99f0-761e657bbfd0",
   "metadata": {},
   "outputs": [
    {
     "data": {
      "text/plain": [
       "count   2443651.00\n",
       "mean          2.15\n",
       "std           2.19\n",
       "min           0.00\n",
       "25%           0.00\n",
       "50%           0.00\n",
       "75%           4.40\n",
       "max           5.00\n",
       "Name: stars, dtype: float64"
      ]
     },
     "execution_count": 136,
     "metadata": {},
     "output_type": "execute_result"
    }
   ],
   "source": [
    "df['stars'].describe()"
   ]
  },
  {
   "cell_type": "markdown",
   "id": "8b11a3f8-98eb-4c3c-89dc-183a788381b1",
   "metadata": {},
   "source": [
    "After filtering out the zero (people leaving no review), the distribution of the rating is negatively skewed but relatively centered around  the 4.5 modal value, median being 4.4 and mean 4.32, meaning people left overall good reviews with a few outliers especially around very bad reviews with 1 star skewing the whole distribution negatively, generally rather consistent good ratings with the iqr after filtering out the zero being between 4.1 and 4.6 stars."
   ]
  },
  {
   "cell_type": "code",
   "execution_count": 142,
   "id": "cc89bcd8-be6f-40fd-9f3c-49482ec97508",
   "metadata": {},
   "outputs": [],
   "source": [
    "skewness_rating = df['stars'].skew() #positive value = positively skewed distribution!\n",
    "kurtosis_rating = df['stars'].kurtosis() # if >3, more outliers than in normal distribution\n",
    "\n"
   ]
  },
  {
   "cell_type": "code",
   "execution_count": 144,
   "id": "ae73797d-7a2b-4cf5-b471-1069aca8154e",
   "metadata": {},
   "outputs": [
    {
     "data": {
      "text/plain": [
       "0.08120735761080985"
      ]
     },
     "execution_count": 144,
     "metadata": {},
     "output_type": "execute_result"
    }
   ],
   "source": [
    "skewness_rating\n"
   ]
  },
  {
   "cell_type": "markdown",
   "id": "fe60c6fc-811b-498f-8e8e-ae8054269c72",
   "metadata": {},
   "source": [
    "the skewness of 0.081 would suggest that the data is approximately symmetric, with a very slight tendency for a longer right tail, which is not really the case with our dataset, and the 0 outlier probably leads to a strange value."
   ]
  },
  {
   "cell_type": "code",
   "execution_count": 146,
   "id": "3db529cf-481f-4124-bf35-35b587d6204b",
   "metadata": {},
   "outputs": [
    {
     "data": {
      "text/plain": [
       "-1.9260061280432985"
      ]
     },
     "execution_count": 146,
     "metadata": {},
     "output_type": "execute_result"
    }
   ],
   "source": []
  },
  {
   "cell_type": "markdown",
   "id": "e8f32f41-5722-49fd-9e7c-8c57dc1872d0",
   "metadata": {},
   "source": [
    "The kurtosis value of −1.926 (which is an excess kurtosis value) means that the distribution has less outliers or extreme values compared to a normal distribution, the extreme value being the 0 in this case. Let's compare it after filtering out the zero:"
   ]
  },
  {
   "cell_type": "code",
   "execution_count": 148,
   "id": "ce87ab0d-c737-46fb-be7c-9a11dd97c888",
   "metadata": {},
   "outputs": [],
   "source": [
    "skewness_rating_nozero = df_stars_nozero['stars'].skew() #positive value = positively skewed distribution!\n",
    "kurtosis_rating_nozero = df_stars_nozero['stars'].kurtosis() # if >3, more outliers than in normal distribution"
   ]
  },
  {
   "cell_type": "code",
   "execution_count": 150,
   "id": "6c7a160d-222d-443d-9ba2-a189b8d0aaaa",
   "metadata": {},
   "outputs": [
    {
     "data": {
      "text/plain": [
       "-2.3795681122127945"
      ]
     },
     "execution_count": 150,
     "metadata": {},
     "output_type": "execute_result"
    }
   ],
   "source": [
    "skewness_rating_nozero"
   ]
  },
  {
   "cell_type": "code",
   "execution_count": null,
   "id": "877bffc3-1042-4ff4-96ea-f932770a8580",
   "metadata": {},
   "outputs": [],
   "source": [
    "this value indicates a highly negatively skewed value set."
   ]
  },
  {
   "cell_type": "code",
   "execution_count": 152,
   "id": "7f6b48b1-605d-4371-81b1-d8ef6fc65ca1",
   "metadata": {},
   "outputs": [
    {
     "data": {
      "text/plain": [
       "9.78193769066435"
      ]
     },
     "execution_count": 152,
     "metadata": {},
     "output_type": "execute_result"
    }
   ],
   "source": [
    "kurtosis_rating_nozero"
   ]
  },
  {
   "cell_type": "markdown",
   "id": "58d1b00e-9139-4b8c-9e8f-e85978bdb64e",
   "metadata": {},
   "source": [
    "This kurtosis value indicates a Leptokurtic distribution, meaning heavier tails and a sharper peak than a normal distribution. In our case the high peak centres around a very good but not perfect review of around 4.5 stars, with most values falling inbetween 4 and 5 stars, while the tail contains \"outliers\" such as very negative 1 star reviews but also a lot of very average reviews at 3 stars, skewing the data negatively."
   ]
  },
  {
   "cell_type": "code",
   "execution_count": 154,
   "id": "977a6a3f-d3ad-4679-9bfe-0490dfc8ea68",
   "metadata": {},
   "outputs": [
    {
     "data": {
      "image/png": "[encoded data removed]",
      "text/plain": [
       "<Figure size 1000x600 with 1 Axes>"
      ]
     },
     "metadata": {},
     "output_type": "display_data"
    }
   ],
   "source": [
    "#histplot of reviews without zero\n",
    "\n",
    "from matplotlib.ticker import FuncFormatter\n",
    "\n",
    "# Assuming df is your DataFrame and it contains a 'price' column\n",
    "plt.figure(figsize=(10, 6))\n",
    "\n",
    "# Create the histogram\n",
    "sns.histplot(df_stars_nozero['stars'], kde=False, color='blue')\n",
    "\n",
    "# Format y-axis to avoid scientific notation\n",
    "plt.gca().yaxis.set_major_formatter(FuncFormatter(lambda x, _: f'{int(x):,}'))\n",
    "\n",
    "# Add labels and title\n",
    "plt.xlabel('Reviews')\n",
    "plt.ylabel('Count')\n",
    "plt.title('Distribution of Review Ratings')\n",
    "\n",
    "plt.show()"
   ]
  },
  {
   "cell_type": "markdown",
   "id": "18589fda-3740-42d5-8bea-e156dae8956f",
   "metadata": {},
   "source": [
    "The most common rating is 4.5"
   ]
  }
 ],
 "metadata": {
  "kernelspec": {
   "display_name": "Python 3 (ipykernel)",
   "language": "python",
   "name": "python3"
  },
  "language_info": {
   "codemirror_mode": {
    "name": "ipython",
    "version": 3
   },
   "file_extension": ".py",
   "mimetype": "text/x-python",
   "name": "python",
   "nbconvert_exporter": "python",
   "pygments_lexer": "ipython3",
   "version": "3.12.4"
  }
 },
 "nbformat": 4,
 "nbformat_minor": 5
}
